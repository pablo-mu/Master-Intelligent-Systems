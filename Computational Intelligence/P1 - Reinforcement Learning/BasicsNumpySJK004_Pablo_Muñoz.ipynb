{
  "nbformat": 4,
  "nbformat_minor": 0,
  "metadata": {
    "colab": {
      "provenance": []
    },
    "kernelspec": {
      "name": "python3",
      "display_name": "Python 3"
    },
    "language_info": {
      "name": "python"
    }
  },
  "cells": [
    {
      "cell_type": "markdown",
      "source": [
        "<font color='lightblue' size=6>Practice 1: First part. Review of python, numpy, and matplotlib</font>"
      ],
      "metadata": {
        "id": "zYGI2mAFvAWg"
      }
    },
    {
      "cell_type": "markdown",
      "source": [
        "<font color='red'> *Pablo Muñoz Alcaide*\n",
        "</font>\n",
        "---\n",
        "\n"
      ],
      "metadata": {
        "id": "D4kFjrrooYcE"
      }
    },
    {
      "cell_type": "markdown",
      "source": [
        "**Google Colab** is an interactive web environment for executing python scripts (even in the R language too). It is designed for writing prototypes, examples and tutorials."
      ],
      "metadata": {
        "id": "qfG5Oj8WcEaT"
      }
    },
    {
      "cell_type": "markdown",
      "source": [
        "It is very convenient to read and understand how python works by doing this tutorial in the [w3schools python](https://www.w3schools.com/python/) site.\n",
        "Once doing that.\n",
        "Let refresh some code and do some exercises."
      ],
      "metadata": {
        "id": "ftzkr-7WccuC"
      }
    },
    {
      "cell_type": "markdown",
      "source": [
        "<font color='lightblue' size=6>***python 3.x***</font>"
      ],
      "metadata": {
        "id": "yIRmGfOfUjAS"
      }
    },
    {
      "cell_type": "markdown",
      "source": [
        "First. Let refresh some basic python code"
      ],
      "metadata": {
        "id": "eehk3F2Gci4h"
      }
    },
    {
      "cell_type": "code",
      "source": [
        "a = [1, 2, 3, 4, 5, 6, 7, 8]\n",
        "b = range(4)\n",
        "print(a)\n",
        "print(b)"
      ],
      "metadata": {
        "id": "01wIHcH01mDz",
        "colab": {
          "base_uri": "https://localhost:8080/"
        },
        "outputId": "8027a193-d22e-4389-8d81-6e0719b328e7"
      },
      "execution_count": null,
      "outputs": [
        {
          "output_type": "stream",
          "name": "stdout",
          "text": [
            "[1, 2, 3, 4, 5, 6, 7, 8]\n",
            "range(0, 4)\n"
          ]
        }
      ]
    },
    {
      "cell_type": "markdown",
      "source": [
        "Lets remember how to write functions, if structures and loops.\n",
        "\n",
        "<font color='brown' size=6> **Exercise 1** </font>\n",
        "\n",
        "Write a function in python named \"listsum\" that receiving two lists of integers, returns a new list containing the pairwise sum of these two lists. For example: giving lists a = [1, 2, 3, 4, 5, 6] and b = [0, 1, 2, 3], print(listsum(a,b)) must show [1, 3, 5, 7, 5, 6].\n",
        "\n",
        "Complete the code following the comments showed below (just to remenber some basic control python structures)."
      ],
      "metadata": {
        "id": "5mMmp0ahc09h"
      }
    },
    {
      "cell_type": "code",
      "source": [
        "def listsum(a, b):\n",
        "  #calculate the length of both lists\n",
        "  a_len =len(a)\n",
        "  b_len = len(b)\n",
        "  #we create a list formed by the sum of each element of both list. Except for the items in the longest list.\n",
        "  c=[a[i]+b[i] for i in range(min(a_len,b_len))]\n",
        "  #check which list is longer, then add the remaining elements of that list to c.\n",
        "  if a_len>b_len:\n",
        "    c=c+a[b_len:]\n",
        "  else:\n",
        "    c=c+b[a_len:]\n",
        "\n",
        "  return c"
      ],
      "metadata": {
        "id": "s7Z1_a88IO9F"
      },
      "execution_count": null,
      "outputs": []
    },
    {
      "cell_type": "code",
      "source": [
        "a=[1,2,3,4,5,6]\n",
        "b=[0,1,2,3]\n",
        "print(listsum(a,b))"
      ],
      "metadata": {
        "id": "CZxWecAnKjHd",
        "colab": {
          "base_uri": "https://localhost:8080/"
        },
        "outputId": "b2a3c8b1-889d-413b-ef7e-247d6f586eef"
      },
      "execution_count": null,
      "outputs": [
        {
          "output_type": "stream",
          "name": "stdout",
          "text": [
            "[1, 3, 5, 7, 5, 6]\n"
          ]
        }
      ]
    },
    {
      "cell_type": "markdown",
      "source": [
        "Lists can also be manipulated with slices.\n",
        "\n",
        "<font color='brown' size=6> **Exercise 2** </font>\n",
        "\n",
        "Write one line of code for each operacion described bellow:\n",
        "1. print from list a the elements from position 3 to position 7 with step 2.\n",
        "2. print from list a the elements from position 3 to the end with step 2.\n",
        "3. print from list a in reverse order."
      ],
      "metadata": {
        "id": "0dybGZzujzFB"
      }
    },
    {
      "cell_type": "code",
      "source": [
        "#We assume that position 3 is the third element of the list.\n",
        "#If position refers to the index of the element, in comments we write the alternative version.\n",
        "print(a[2:7:2]) #print(a[3:8:2])\n",
        "print(a[2::2]) #print(a[3::2])\n",
        "print(a[::-1]) #print(a[::-1])"
      ],
      "metadata": {
        "id": "7dWgaf6wIc3a",
        "colab": {
          "base_uri": "https://localhost:8080/"
        },
        "outputId": "46cc5afd-8e4b-4ecf-e891-64efc0adc44e"
      },
      "execution_count": null,
      "outputs": [
        {
          "output_type": "stream",
          "name": "stdout",
          "text": [
            "[3, 5]\n",
            "[3, 5]\n",
            "[6, 5, 4, 3, 2, 1]\n"
          ]
        }
      ]
    },
    {
      "cell_type": "markdown",
      "source": [
        "<font color='brown' size=6> **Exercise 3** </font>\n",
        "\n",
        "Write a python code to print the elements at odd locations in a list in reverse order"
      ],
      "metadata": {
        "id": "DKcl4CXLnr9x"
      }
    },
    {
      "cell_type": "code",
      "source": [
        "a=[0,1,2,3]\n",
        "llista = []\n",
        "#go through the odd positions\n",
        "for i in range(1,len(a),2):\n",
        "  #create a list with the elements at odd positions\n",
        "  llista.append(a[i])\n",
        "#we print the new list in a reverse order\n",
        "print(llista[::-1])"
      ],
      "metadata": {
        "id": "68tvMKCtndsh",
        "colab": {
          "base_uri": "https://localhost:8080/"
        },
        "outputId": "79bf1899-a500-4d0f-a350-d43717c84e89"
      },
      "execution_count": null,
      "outputs": [
        {
          "output_type": "stream",
          "name": "stdout",
          "text": [
            "[3, 1]\n"
          ]
        }
      ]
    },
    {
      "cell_type": "markdown",
      "source": [
        "Lets remember how to use list comprehension.\n",
        "\n",
        "<font color='brown' size=6> **Exercise 4** </font>\n",
        "\n",
        "Write a python function to calculate if a number is prime or not. Then write some other lines of code to print a list called *primes* that stores all the prime numbers from 1 to 99 inclusive."
      ],
      "metadata": {
        "id": "sxSnbs1Jcjtw"
      }
    },
    {
      "cell_type": "code",
      "source": [
        "#assuming that the function is for positive numbers\n",
        "def prime(num):\n",
        "  if num <= 0:\n",
        "    return print('Number must be positive')\n",
        "  # 1 is prime\n",
        "  if num==1:\n",
        "    return True\n",
        "  #we count the number of divisors\n",
        "  a = [1 if num % i==0 else 0 for i in range(1,num)]\n",
        "  #if there are more or equal than two divisors is not prime, otherwise is prime.\n",
        "  if sum(a)>=2:\n",
        "    return False\n",
        "  else:\n",
        "    return True\n",
        "\n",
        "#we print the primes from 1 to 99\n",
        "primes = []\n",
        "for i in range(1,100):\n",
        "  if prime(i):\n",
        "    primes.append(i)\n",
        "print(primes)"
      ],
      "metadata": {
        "id": "CiROFjqgcmMD",
        "colab": {
          "base_uri": "https://localhost:8080/"
        },
        "outputId": "7411af10-b79f-44d0-9ca3-68deaab57c1a"
      },
      "execution_count": null,
      "outputs": [
        {
          "output_type": "stream",
          "name": "stdout",
          "text": [
            "[1, 2, 3, 5, 7, 11, 13, 17, 19, 23, 29, 31, 37, 41, 43, 47, 53, 59, 61, 67, 71, 73, 79, 83, 89, 97]\n"
          ]
        }
      ]
    },
    {
      "cell_type": "markdown",
      "source": [
        "Now, using list comprehension, the above code can be rewritten as:"
      ],
      "metadata": {
        "id": "k-RCtyK7cxiw"
      }
    },
    {
      "cell_type": "code",
      "source": [
        "primes = [n for n in range(1,100) if prime(n)]\n",
        "print(primes)"
      ],
      "metadata": {
        "id": "LHaYcllnczAv",
        "colab": {
          "base_uri": "https://localhost:8080/"
        },
        "outputId": "3a7e0938-9f32-4cf2-9834-39129f2aa66e"
      },
      "execution_count": null,
      "outputs": [
        {
          "output_type": "stream",
          "name": "stdout",
          "text": [
            "[1, 2, 3, 5, 7, 11, 13, 17, 19, 23, 29, 31, 37, 41, 43, 47, 53, 59, 61, 67, 71, 73, 79, 83, 89, 97]\n"
          ]
        }
      ]
    },
    {
      "cell_type": "markdown",
      "source": [
        "Now, refresh the zip function and do the next exercise.\n",
        "\n",
        "<font color='brown' size=6> **Exercise 5** </font>\n",
        "\n",
        "Write python code defining a list a with numbers from 2 to 9 inclusive, b with numbers 1 to 8 sith step 2. Make a zip with lists a, b, a, a and print the result of that zip (which will be [(2, 1, 2, 2), (3, 3, 3, 3), (4, 5, 4, 4), (5, 7, 5, 5)])"
      ],
      "metadata": {
        "id": "xkebP2NYc6Wy"
      }
    },
    {
      "cell_type": "code",
      "source": [
        "a = [n for n in range(2,10)]\n",
        "b = [n  for n in range(1,8,2)]\n",
        "print(list(zip(a,b,a,a)))"
      ],
      "metadata": {
        "id": "uo0TwPFyds1j",
        "colab": {
          "base_uri": "https://localhost:8080/"
        },
        "outputId": "224bec78-6e81-4128-d2c8-de08b745e685"
      },
      "execution_count": null,
      "outputs": [
        {
          "output_type": "stream",
          "name": "stdout",
          "text": [
            "[(2, 1, 2, 2), (3, 3, 3, 3), (4, 5, 4, 4), (5, 7, 5, 5)]\n"
          ]
        }
      ]
    },
    {
      "cell_type": "markdown",
      "source": [
        "The module random is also heavily used. So, lets remember some of their functions.\n",
        "\n",
        "<font color='brown' size=6> **Exercise 6** </font>\n",
        "\n",
        "Write python code fro doing the next operations:\n",
        "1. print a float random number between 0 and 1\n",
        "2. print a float random number between 2 and 99.\n",
        "3. print an integer random number bewtween 2 and 99.\n",
        "4. print the shuffle primes list\n",
        "5. print a random sample of length 10  of the primes list"
      ],
      "metadata": {
        "id": "zKT8roIsd-cn"
      }
    },
    {
      "cell_type": "code",
      "source": [
        "import random\n",
        "#float random number between 0 and 1\n",
        "print(random.random())\n",
        "#float random number between 2 and 99\n",
        "print(random.uniform(2,99))\n",
        "#integer random number between 0 and 1\n",
        "print(random.randint(2,99))\n",
        "#print the shuffle primes list\n",
        "random.shuffle(primes)\n",
        "print(primes)\n",
        "#print(random.sample(primes,len(primes))) another way to shuffle without modifying the original list.\n",
        "print(random.sample(primes,10))"
      ],
      "metadata": {
        "id": "RdwGvK6geEmz",
        "colab": {
          "base_uri": "https://localhost:8080/"
        },
        "outputId": "d81de0e4-626b-4a82-8e62-bfc99198f32f"
      },
      "execution_count": null,
      "outputs": [
        {
          "output_type": "stream",
          "name": "stdout",
          "text": [
            "0.8095211412271615\n",
            "26.90349281798785\n",
            "50\n",
            "[89, 59, 97, 2, 47, 67, 31, 19, 7, 23, 1, 71, 53, 13, 61, 11, 73, 83, 79, 3, 17, 29, 43, 37, 5, 41]\n",
            "[67, 3, 23, 89, 97, 43, 47, 41, 53, 83]\n"
          ]
        }
      ]
    },
    {
      "cell_type": "markdown",
      "source": [
        "Remember now how a class is defined in python.\n",
        "Review also what is inside the module \"collections\", and concisely the functions \"namedtuple\" and \"deque\".\n",
        "\n",
        "<font color='brown' size=6> **Exercise 7** </font>\n",
        "\n",
        "First, write a namedtuple whit the name *Transition* and with 4 fields with the names *state*, *action*, *next_state* and *reward*\n",
        "Write a class called *ReplayMemory* that stores a \"memory\" programmed as a deque with a maximum length provided in the constructor. It also has to be able to provide 2 operations: *push*, that add one Transition to the memory; and *sample*, that returns a sample of a given length from the memory. An object of ReplayMemory can be asked about its lenght, that returns the length of its internal memory.\n",
        "Then execute the following lines of code to obtain the output:\n",
        "\n",
        "3\n",
        "\n",
        "[Transition(state=9, action=10, next_state=11, reward=12), Transition(state=5, action=6, next_state=7, reward=8)] (*for example*)"
      ],
      "metadata": {
        "id": "1svAiJbjn55a"
      }
    },
    {
      "cell_type": "markdown",
      "source": [],
      "metadata": {
        "id": "svVWDogs_zu3"
      }
    },
    {
      "cell_type": "code",
      "source": [
        "from collections import namedtuple, deque\n",
        "import random\n",
        "\n",
        "Transition = namedtuple('Transition', ['state','action', 'next_state','reward'])\n",
        "\n",
        "class ReplayMemory:\n",
        "  # stores a \"memory\" programmed as a deque with a maximum length provided in the constructor\n",
        "  def __init__(self, capacity):\n",
        "    self.capicity = capacity\n",
        "    self.memory = deque(maxlen = capacity)\n",
        "\n",
        "  #add one Transition to the memory\n",
        "  def push(self, state, action, next_state, reward):\n",
        "    self.memory.append(Transition(state, action, next_state, reward))\n",
        "\n",
        "  #returns a sample of a given length from the memory.\n",
        "  def sample(self, size):\n",
        "    return random.sample(self.memory,size)\n",
        "  #length of its internal memory\n",
        "  def __len__(self):\n",
        "    return len(self.memory)\n",
        "\n",
        "memoria = ReplayMemory(10)\n",
        "memoria.push(1,2,3,4)\n",
        "memoria.push(5,6,7,8)\n",
        "memoria.push(9,10,11,12)\n",
        "print(len(memoria))\n",
        "print(memoria.sample(2))"
      ],
      "metadata": {
        "id": "b4gJnMb0zh21",
        "colab": {
          "base_uri": "https://localhost:8080/"
        },
        "outputId": "3e8c9443-7884-463e-8af4-1bd5b291ef9b"
      },
      "execution_count": null,
      "outputs": [
        {
          "output_type": "stream",
          "name": "stdout",
          "text": [
            "3\n",
            "[Transition(state=1, action=2, next_state=3, reward=4), Transition(state=9, action=10, next_state=11, reward=12)]\n"
          ]
        }
      ]
    },
    {
      "cell_type": "markdown",
      "source": [
        "<font color='lightblue' size=6>***numpy***</font>"
      ],
      "metadata": {
        "id": "qkoTz1x7oagU"
      }
    },
    {
      "cell_type": "markdown",
      "source": [
        "Numpy was designed to deal with large mutidimensional arrays (absent in standard python) to provide efficient computations. Behind its call to a numpy funcion there is a pre-compiled C code that runs faster than its equivalent python code).\n",
        "It is very convenient to read and understand how numpy works by doing the tutorial on numpy in the [w3schools numpy](https://www.w3schools.com/python/numpy/default.asp) site."
      ],
      "metadata": {
        "id": "S4JaAaHaoeeU"
      }
    },
    {
      "cell_type": "markdown",
      "source": [
        "The main data structure of numpy are the numpy arrays. Remenber to import module numpy before starting to use the examples below. Given that numpy funcions are used very frequently is a good option to rename the module as np for not to be verbose when using their available funcions:"
      ],
      "metadata": {
        "id": "NlXf-KZMomPD"
      }
    },
    {
      "cell_type": "code",
      "source": [
        "import numpy as np"
      ],
      "metadata": {
        "id": "n55LT2b7opu1"
      },
      "execution_count": null,
      "outputs": []
    },
    {
      "cell_type": "code",
      "source": [
        "numbers_np = np.array(range(1,20))\n",
        "numbers_py = range(1,20)\n",
        "print(numbers_np)\n",
        "print(numbers_py)\n",
        "numbers_py = list(numbers_py)\n",
        "print(numbers_py)"
      ],
      "metadata": {
        "id": "w5X3PIott9OY",
        "colab": {
          "base_uri": "https://localhost:8080/"
        },
        "outputId": "6210b9f7-8a0f-481f-c11f-31da11884174"
      },
      "execution_count": null,
      "outputs": [
        {
          "output_type": "stream",
          "name": "stdout",
          "text": [
            "[ 1  2  3  4  5  6  7  8  9 10 11 12 13 14 15 16 17 18 19]\n",
            "range(1, 20)\n",
            "[1, 2, 3, 4, 5, 6, 7, 8, 9, 10, 11, 12, 13, 14, 15, 16, 17, 18, 19]\n"
          ]
        }
      ]
    },
    {
      "cell_type": "markdown",
      "source": [
        "A lot of standard functions in python have their equivalent versions rewriten in numpy. numpy arrays can also be indexed and sliced as python lists"
      ],
      "metadata": {
        "id": "wtDTpmSYuAOG"
      }
    },
    {
      "cell_type": "code",
      "source": [
        "print(numbers_np[1:5:2])\n",
        "print(numbers_np[1:5])\n",
        "print(numbers_py[3:-1:3])\n",
        "print(numbers_np[::-1])"
      ],
      "metadata": {
        "id": "fGS2jVa2uDqF",
        "colab": {
          "base_uri": "https://localhost:8080/"
        },
        "outputId": "12dbca45-22c7-41dd-a1d3-0916c3ac7e3f"
      },
      "execution_count": null,
      "outputs": [
        {
          "output_type": "stream",
          "name": "stdout",
          "text": [
            "[2 4]\n",
            "[2 3 4 5]\n",
            "[4, 7, 10, 13, 16]\n",
            "[19 18 17 16 15 14 13 12 11 10  9  8  7  6  5  4  3  2  1]\n"
          ]
        }
      ]
    },
    {
      "cell_type": "markdown",
      "source": [
        "But it can also be used numpy arrays to index another arrays in a great variety of ways. Try to figure out what output will be obtained before execute the following code."
      ],
      "metadata": {
        "id": "PVRu79FTuI0m"
      }
    },
    {
      "cell_type": "code",
      "source": [
        "index = np.array([5,1,8,2])\n",
        "numbers_np[index]\n",
        "times = np.random.randint(180, 300, 20)\n",
        "participants = np.arange(1,21)\n",
        "print(times)\n",
        "print(participants)\n",
        "print(times < 240)\n",
        "print(participants[times<240])\n",
        "print(times[times<240])\n",
        "participants = np.random.permutation(20)\n",
        "print(participants)\n",
        "print(times[participants])"
      ],
      "metadata": {
        "id": "d3Pvqgs8uMTA",
        "colab": {
          "base_uri": "https://localhost:8080/"
        },
        "outputId": "5075b6d5-531f-4929-d050-b5e0cb5cb969"
      },
      "execution_count": null,
      "outputs": [
        {
          "output_type": "stream",
          "name": "stdout",
          "text": [
            "[199 263 183 261 274 193 250 223 221 228 193 188 218 266 291 292 230 218\n",
            " 278 235]\n",
            "[ 1  2  3  4  5  6  7  8  9 10 11 12 13 14 15 16 17 18 19 20]\n",
            "[ True False  True False False  True False  True  True  True  True  True\n",
            "  True False False False  True  True False  True]\n",
            "[ 1  3  6  8  9 10 11 12 13 17 18 20]\n",
            "[199 183 193 223 221 228 193 188 218 230 218 235]\n",
            "[ 0  2 12 15 14  8  9 11 17  6  3  7  5 13 18 16 10  4  1 19]\n",
            "[199 183 218 292 291 221 228 188 218 250 261 223 193 266 278 230 193 274\n",
            " 263 235]\n"
          ]
        }
      ]
    },
    {
      "cell_type": "markdown",
      "source": [
        "Arrays in numpy, as lists in conventional python, can also be sort. Try to figure out what output will be obtained before execute the following code."
      ],
      "metadata": {
        "id": "q4YvMNF2uSIx"
      }
    },
    {
      "cell_type": "code",
      "source": [
        "print(participants)\n",
        "print(times[participants])\n",
        "sorted_index = np.argsort(participants)\n",
        "print(sorted_index)\n",
        "print(participants[sorted_index])\n",
        "print(times[sorted_index])"
      ],
      "metadata": {
        "id": "9L-uz9obuUya",
        "colab": {
          "base_uri": "https://localhost:8080/"
        },
        "outputId": "d4418bae-5d07-4eac-b1df-65d31379d484"
      },
      "execution_count": null,
      "outputs": [
        {
          "output_type": "stream",
          "name": "stdout",
          "text": [
            "[ 0  2 12 15 14  8  9 11 17  6  3  7  5 13 18 16 10  4  1 19]\n",
            "[199 183 218 292 291 221 228 188 218 250 261 223 193 266 278 230 193 274\n",
            " 263 235]\n",
            "[ 0 18  1 10 17 12  9 11  5  6 16  7  2 13  4  3 15  8 14 19]\n",
            "[ 0  1  2  3  4  5  6  7  8  9 10 11 12 13 14 15 16 17 18 19]\n",
            "[199 278 263 193 218 218 228 188 193 250 230 223 183 266 274 261 292 221\n",
            " 291 235]\n"
          ]
        }
      ]
    },
    {
      "cell_type": "markdown",
      "source": [
        "numpy arrays are addapted to the size of the greatest of them in size when are involved in the same operation. I.e., the smaller one is make as big as the bigger one."
      ],
      "metadata": {
        "id": "VWkrc_63xYQQ"
      }
    },
    {
      "cell_type": "code",
      "source": [
        "a = np.array([1,3,5])\n",
        "b = np.array([4, 4, 4])\n",
        "print(a + b)\n",
        "print(a * b)\n",
        "b = 4\n",
        "print(a + b)\n",
        "print(a * b)"
      ],
      "metadata": {
        "id": "bTxGqWsrx9aS",
        "colab": {
          "base_uri": "https://localhost:8080/"
        },
        "outputId": "0b37c614-4161-4216-e04c-ea4565a8b4e4"
      },
      "execution_count": null,
      "outputs": [
        {
          "output_type": "stream",
          "name": "stdout",
          "text": [
            "[5 7 9]\n",
            "[ 4 12 20]\n",
            "[5 7 9]\n",
            "[ 4 12 20]\n"
          ]
        }
      ]
    },
    {
      "cell_type": "markdown",
      "source": [
        "<<font color='brown' size=6> **Exercise 8** </font>\n",
        "\n",
        "Write a python funcion called *randomization* that receives a positive integer and returns a random  1 x n numpy array."
      ],
      "metadata": {
        "id": "bVKDiJDdxRSL"
      }
    },
    {
      "cell_type": "code",
      "source": [
        "import numpy as np\n",
        "def randomization(num):\n",
        "  return np.random.random([1,num])\n"
      ],
      "metadata": {
        "id": "jzF2hneWzA6R"
      },
      "execution_count": null,
      "outputs": []
    },
    {
      "cell_type": "markdown",
      "source": [
        "<font color='brown' size=6> **Exercise 9** </font>\n",
        "\n",
        "Write a python funcion called *provider* that receives two positive integers *n* and *m*, makes tow random matrices *A* and *B* of size  nxm and returns *A*, *B*, and the sum of *A* and *B*."
      ],
      "metadata": {
        "id": "oK4ZkFcAzm5C"
      }
    },
    {
      "cell_type": "code",
      "source": [
        "def provider(n,m):\n",
        "  A = np.random.random([n,m])\n",
        "  B = np.random.random([n,m])\n",
        "  return A,B,A+B\n",
        "\n",
        "\n"
      ],
      "metadata": {
        "id": "PH_jfhVO0Z2O"
      },
      "execution_count": null,
      "outputs": []
    },
    {
      "cell_type": "markdown",
      "source": [
        "<font color='brown' size=6> **Exercise 10** </font>\n",
        "\n",
        "Write a python funcion called *norm2* that receives two column numpy arrays *a* and *b*, adds them and returns the L\" norm of their sum."
      ],
      "metadata": {
        "id": "WycKvcw407ZM"
      }
    },
    {
      "cell_type": "code",
      "source": [
        "def norm2(a,b):\n",
        "  c = a+b\n",
        "  return sum(c[0,:]**L)**(1/L)\n"
      ],
      "metadata": {
        "id": "lBLoGISM1k7v"
      },
      "execution_count": null,
      "outputs": []
    },
    {
      "cell_type": "markdown",
      "source": [
        "<font color='lightblue' size=6>***matplotlib***</font>"
      ],
      "metadata": {
        "id": "LFxjp88036Rx"
      }
    },
    {
      "cell_type": "markdown",
      "source": [
        "This module provides functions and other stuff to produce plots in python. It is very convenient to read and understand how numpy works by doing the tutorial on numpy in the [w3schools section of matplotlib](https://www.w3schools.com/python/matplotlib_intro.asp) site"
      ],
      "metadata": {
        "id": "AE2MvdCN4Awm"
      }
    },
    {
      "cell_type": "markdown",
      "source": [
        "Try the following code examples, and change some of their parameters to study what consequences are shown."
      ],
      "metadata": {
        "id": "bYDDS8wj4nMk"
      }
    },
    {
      "cell_type": "code",
      "source": [
        "import matplotlib.pyplot as plt\n",
        "plt.rcParams['figure.figsize'] = [5, 3]"
      ],
      "metadata": {
        "id": "BnAmBrA044Fe"
      },
      "execution_count": null,
      "outputs": []
    },
    {
      "cell_type": "code",
      "source": [
        "x = np.linspace(-2*np.pi, 2*np.pi, 50)\n",
        "y = np.tanh(x)\n",
        "# showing values in table form (not very pretty)\n",
        "print(x)\n",
        "print(y)\n",
        "# using a beautiful plot\n",
        "fig, ax = plt.subplots()\n",
        "ax.plot(x,y)"
      ],
      "metadata": {
        "id": "_AQ2QxnR5k5c",
        "colab": {
          "base_uri": "https://localhost:8080/",
          "height": 637
        },
        "outputId": "e8d127d2-4524-4e73-c4c0-875da502b893"
      },
      "execution_count": null,
      "outputs": [
        {
          "output_type": "stream",
          "name": "stdout",
          "text": [
            "[-6.28318531 -6.02672876 -5.77027222 -5.51381568 -5.25735913 -5.00090259\n",
            " -4.74444605 -4.48798951 -4.23153296 -3.97507642 -3.71861988 -3.46216333\n",
            " -3.20570679 -2.94925025 -2.6927937  -2.43633716 -2.17988062 -1.92342407\n",
            " -1.66696753 -1.41051099 -1.15405444 -0.8975979  -0.64114136 -0.38468481\n",
            " -0.12822827  0.12822827  0.38468481  0.64114136  0.8975979   1.15405444\n",
            "  1.41051099  1.66696753  1.92342407  2.17988062  2.43633716  2.6927937\n",
            "  2.94925025  3.20570679  3.46216333  3.71861988  3.97507642  4.23153296\n",
            "  4.48798951  4.74444605  5.00090259  5.25735913  5.51381568  5.77027222\n",
            "  6.02672876  6.28318531]\n",
            "[-0.99999303 -0.99998835 -0.99998055 -0.99996751 -0.99994573 -0.99990937\n",
            " -0.99984864 -0.99974721 -0.99957784 -0.99929503 -0.99882288 -0.9980348\n",
            " -0.99671999 -0.9945279  -0.9908775  -0.9848105  -0.97475973 -0.95819851\n",
            " -0.93114962 -0.88760259 -0.81909278 -0.71512623 -0.56567619 -0.36676903\n",
            " -0.12753007  0.12753007  0.36676903  0.56567619  0.71512623  0.81909278\n",
            "  0.88760259  0.93114962  0.95819851  0.97475973  0.9848105   0.9908775\n",
            "  0.9945279   0.99671999  0.9980348   0.99882288  0.99929503  0.99957784\n",
            "  0.99974721  0.99984864  0.99990937  0.99994573  0.99996751  0.99998055\n",
            "  0.99998835  0.99999303]\n"
          ]
        },
        {
          "output_type": "execute_result",
          "data": {
            "text/plain": [
              "[<matplotlib.lines.Line2D at 0x7e5c2c20c430>]"
            ]
          },
          "metadata": {},
          "execution_count": 21
        },
        {
          "output_type": "display_data",
          "data": {
            "text/plain": [
              "<Figure size 500x300 with 1 Axes>"
            ],
            "image/png": "[encoded data removed]"
          },
          "metadata": {}
        }
      ]
    },
    {
      "cell_type": "markdown",
      "source": [
        "You can put more than one function in a plot, and also can put more than one plot in a figure. Play with the bellow code examples to understand better how this can be programmed."
      ],
      "metadata": {
        "id": "ZVF7G2HzPZ9R"
      }
    },
    {
      "cell_type": "code",
      "source": [
        "x = np.linspace(0, 2*np.pi, 200)\n",
        "y1 = np.tanh(x)\n",
        "y2 = np.cos(x**2)\n",
        "# what are the meaning of parameters 1, 2, and sharey in the next instruction?\n",
        "fir, axes = plt.subplots(1, 2, sharey = True)\n",
        "axes[1].plot(x, y1)\n",
        "axes[1].plot(x, -y1)\n",
        "axes[0].plot(x, y2)"
      ],
      "metadata": {
        "id": "KCojHHvbPw6Y",
        "colab": {
          "base_uri": "https://localhost:8080/",
          "height": 309
        },
        "outputId": "582b4bc2-4cd5-4a8f-ae7d-83498161d710"
      },
      "execution_count": null,
      "outputs": [
        {
          "output_type": "execute_result",
          "data": {
            "text/plain": [
              "[<matplotlib.lines.Line2D at 0x7e5c2c1367a0>]"
            ]
          },
          "metadata": {},
          "execution_count": 22
        },
        {
          "output_type": "display_data",
          "data": {
            "text/plain": [
              "<Figure size 500x300 with 2 Axes>"
            ],
            "image/png": "[encoded data removed]"
          },
          "metadata": {}
        }
      ]
    }
  ]
}